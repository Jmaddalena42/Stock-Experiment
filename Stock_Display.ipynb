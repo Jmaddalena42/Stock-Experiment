{
 "cells": [
  {
   "cell_type": "code",
   "execution_count": 1,
   "metadata": {},
   "outputs": [],
   "source": [
    "import pandas as pd\n",
    "import numpy as np\n",
    "import talib as ta\n"
   ]
  },
  {
   "cell_type": "code",
   "execution_count": 2,
   "metadata": {},
   "outputs": [
    {
     "data": {
      "text/html": [
       "<div>\n",
       "<style scoped>\n",
       "    .dataframe tbody tr th:only-of-type {\n",
       "        vertical-align: middle;\n",
       "    }\n",
       "\n",
       "    .dataframe tbody tr th {\n",
       "        vertical-align: top;\n",
       "    }\n",
       "\n",
       "    .dataframe thead th {\n",
       "        text-align: right;\n",
       "    }\n",
       "</style>\n",
       "<table border=\"1\" class=\"dataframe\">\n",
       "  <thead>\n",
       "    <tr style=\"text-align: right;\">\n",
       "      <th></th>\n",
       "      <th>Date</th>\n",
       "      <th>Open</th>\n",
       "      <th>High</th>\n",
       "      <th>Low</th>\n",
       "      <th>Close</th>\n",
       "      <th>Adj Close</th>\n",
       "      <th>Volume</th>\n",
       "    </tr>\n",
       "    <tr>\n",
       "      <th>Date</th>\n",
       "      <th></th>\n",
       "      <th></th>\n",
       "      <th></th>\n",
       "      <th></th>\n",
       "      <th></th>\n",
       "      <th></th>\n",
       "      <th></th>\n",
       "    </tr>\n",
       "  </thead>\n",
       "  <tbody>\n",
       "    <tr>\n",
       "      <td>2015-02-03</td>\n",
       "      <td>2015-02-03</td>\n",
       "      <td>146.369995</td>\n",
       "      <td>148.000000</td>\n",
       "      <td>146.179993</td>\n",
       "      <td>147.339996</td>\n",
       "      <td>128.639938</td>\n",
       "      <td>5978200</td>\n",
       "    </tr>\n",
       "    <tr>\n",
       "      <td>2015-02-04</td>\n",
       "      <td>2015-02-04</td>\n",
       "      <td>145.970001</td>\n",
       "      <td>148.389999</td>\n",
       "      <td>145.929993</td>\n",
       "      <td>147.220001</td>\n",
       "      <td>128.535172</td>\n",
       "      <td>4766200</td>\n",
       "    </tr>\n",
       "    <tr>\n",
       "      <td>2015-02-05</td>\n",
       "      <td>2015-02-05</td>\n",
       "      <td>147.259995</td>\n",
       "      <td>148.869995</td>\n",
       "      <td>146.460007</td>\n",
       "      <td>148.600006</td>\n",
       "      <td>129.740036</td>\n",
       "      <td>4252600</td>\n",
       "    </tr>\n",
       "    <tr>\n",
       "      <td>2015-02-06</td>\n",
       "      <td>2015-02-06</td>\n",
       "      <td>148.619995</td>\n",
       "      <td>148.889999</td>\n",
       "      <td>147.699997</td>\n",
       "      <td>148.000000</td>\n",
       "      <td>129.216217</td>\n",
       "      <td>4398800</td>\n",
       "    </tr>\n",
       "    <tr>\n",
       "      <td>2015-02-09</td>\n",
       "      <td>2015-02-09</td>\n",
       "      <td>146.160004</td>\n",
       "      <td>148.160004</td>\n",
       "      <td>145.630005</td>\n",
       "      <td>147.580002</td>\n",
       "      <td>128.849487</td>\n",
       "      <td>4202900</td>\n",
       "    </tr>\n",
       "  </tbody>\n",
       "</table>\n",
       "</div>"
      ],
      "text/plain": [
       "                 Date        Open        High         Low       Close  \\\n",
       "Date                                                                    \n",
       "2015-02-03 2015-02-03  146.369995  148.000000  146.179993  147.339996   \n",
       "2015-02-04 2015-02-04  145.970001  148.389999  145.929993  147.220001   \n",
       "2015-02-05 2015-02-05  147.259995  148.869995  146.460007  148.600006   \n",
       "2015-02-06 2015-02-06  148.619995  148.889999  147.699997  148.000000   \n",
       "2015-02-09 2015-02-09  146.160004  148.160004  145.630005  147.580002   \n",
       "\n",
       "             Adj Close   Volume  \n",
       "Date                             \n",
       "2015-02-03  128.639938  5978200  \n",
       "2015-02-04  128.535172  4766200  \n",
       "2015-02-05  129.740036  4252600  \n",
       "2015-02-06  129.216217  4398800  \n",
       "2015-02-09  128.849487  4202900  "
      ]
     },
     "execution_count": 2,
     "metadata": {},
     "output_type": "execute_result"
    }
   ],
   "source": [
    "df = pd.read_csv('BA.csv')\n",
    "\n",
    "df['Date'] = pd.to_datetime(df['Date'])\n",
    "\n",
    "df.index = df['Date']\n",
    "\n",
    "df.head()\n",
    "# df.describe()\n"
   ]
  },
  {
   "cell_type": "code",
   "execution_count": 3,
   "metadata": {},
   "outputs": [],
   "source": [
    "df = df.drop([\"Date\"], axis=1)"
   ]
  },
  {
   "cell_type": "code",
   "execution_count": 4,
   "metadata": {},
   "outputs": [
    {
     "data": {
      "text/html": [
       "<div>\n",
       "<style scoped>\n",
       "    .dataframe tbody tr th:only-of-type {\n",
       "        vertical-align: middle;\n",
       "    }\n",
       "\n",
       "    .dataframe tbody tr th {\n",
       "        vertical-align: top;\n",
       "    }\n",
       "\n",
       "    .dataframe thead th {\n",
       "        text-align: right;\n",
       "    }\n",
       "</style>\n",
       "<table border=\"1\" class=\"dataframe\">\n",
       "  <thead>\n",
       "    <tr style=\"text-align: right;\">\n",
       "      <th></th>\n",
       "      <th>Open</th>\n",
       "      <th>High</th>\n",
       "      <th>Low</th>\n",
       "      <th>Close</th>\n",
       "      <th>Adj Close</th>\n",
       "      <th>Volume</th>\n",
       "      <th>MA25</th>\n",
       "      <th>RSI</th>\n",
       "      <th>Stoch_K</th>\n",
       "      <th>Stoch_D</th>\n",
       "      <th>MACD</th>\n",
       "      <th>MACDSignal</th>\n",
       "      <th>MACDHist</th>\n",
       "      <th>WILLR</th>\n",
       "    </tr>\n",
       "    <tr>\n",
       "      <th>Date</th>\n",
       "      <th></th>\n",
       "      <th></th>\n",
       "      <th></th>\n",
       "      <th></th>\n",
       "      <th></th>\n",
       "      <th></th>\n",
       "      <th></th>\n",
       "      <th></th>\n",
       "      <th></th>\n",
       "      <th></th>\n",
       "      <th></th>\n",
       "      <th></th>\n",
       "      <th></th>\n",
       "      <th></th>\n",
       "    </tr>\n",
       "  </thead>\n",
       "  <tbody>\n",
       "    <tr>\n",
       "      <td>2020-01-27</td>\n",
       "      <td>316.209991</td>\n",
       "      <td>321.260010</td>\n",
       "      <td>314.579987</td>\n",
       "      <td>316.600006</td>\n",
       "      <td>316.600006</td>\n",
       "      <td>7468100</td>\n",
       "      <td>284.427944</td>\n",
       "      <td>39.800736</td>\n",
       "      <td>39.610963</td>\n",
       "      <td>32.293929</td>\n",
       "      <td>-6.286475</td>\n",
       "      <td>-5.699115</td>\n",
       "      <td>-0.587360</td>\n",
       "      <td>-66.530010</td>\n",
       "    </tr>\n",
       "    <tr>\n",
       "      <td>2020-01-28</td>\n",
       "      <td>318.049988</td>\n",
       "      <td>319.359985</td>\n",
       "      <td>314.000000</td>\n",
       "      <td>316.559998</td>\n",
       "      <td>316.559998</td>\n",
       "      <td>5502200</td>\n",
       "      <td>284.638578</td>\n",
       "      <td>39.775639</td>\n",
       "      <td>39.323804</td>\n",
       "      <td>37.478964</td>\n",
       "      <td>-6.322034</td>\n",
       "      <td>-5.823699</td>\n",
       "      <td>-0.498335</td>\n",
       "      <td>-64.521934</td>\n",
       "    </tr>\n",
       "    <tr>\n",
       "      <td>2020-01-29</td>\n",
       "      <td>324.350006</td>\n",
       "      <td>327.179993</td>\n",
       "      <td>319.140015</td>\n",
       "      <td>322.019989</td>\n",
       "      <td>322.019989</td>\n",
       "      <td>12454700</td>\n",
       "      <td>284.852078</td>\n",
       "      <td>44.883662</td>\n",
       "      <td>39.474169</td>\n",
       "      <td>39.469645</td>\n",
       "      <td>-5.842293</td>\n",
       "      <td>-5.827418</td>\n",
       "      <td>-0.014875</td>\n",
       "      <td>-50.525550</td>\n",
       "    </tr>\n",
       "    <tr>\n",
       "      <td>2020-01-30</td>\n",
       "      <td>320.500000</td>\n",
       "      <td>325.350006</td>\n",
       "      <td>317.640015</td>\n",
       "      <td>323.299988</td>\n",
       "      <td>323.299988</td>\n",
       "      <td>6022000</td>\n",
       "      <td>285.067200</td>\n",
       "      <td>46.039141</td>\n",
       "      <td>47.928693</td>\n",
       "      <td>42.242222</td>\n",
       "      <td>-5.297740</td>\n",
       "      <td>-5.721482</td>\n",
       "      <td>0.423742</td>\n",
       "      <td>-41.166436</td>\n",
       "    </tr>\n",
       "    <tr>\n",
       "      <td>2020-01-31</td>\n",
       "      <td>321.750000</td>\n",
       "      <td>321.929993</td>\n",
       "      <td>316.989990</td>\n",
       "      <td>318.269989</td>\n",
       "      <td>318.269989</td>\n",
       "      <td>4996800</td>\n",
       "      <td>285.279755</td>\n",
       "      <td>42.287379</td>\n",
       "      <td>51.987834</td>\n",
       "      <td>46.463565</td>\n",
       "      <td>-5.211977</td>\n",
       "      <td>-5.619581</td>\n",
       "      <td>0.407604</td>\n",
       "      <td>-52.344512</td>\n",
       "    </tr>\n",
       "  </tbody>\n",
       "</table>\n",
       "</div>"
      ],
      "text/plain": [
       "                  Open        High         Low       Close   Adj Close  \\\n",
       "Date                                                                     \n",
       "2020-01-27  316.209991  321.260010  314.579987  316.600006  316.600006   \n",
       "2020-01-28  318.049988  319.359985  314.000000  316.559998  316.559998   \n",
       "2020-01-29  324.350006  327.179993  319.140015  322.019989  322.019989   \n",
       "2020-01-30  320.500000  325.350006  317.640015  323.299988  323.299988   \n",
       "2020-01-31  321.750000  321.929993  316.989990  318.269989  318.269989   \n",
       "\n",
       "              Volume        MA25        RSI    Stoch_K    Stoch_D      MACD  \\\n",
       "Date                                                                          \n",
       "2020-01-27   7468100  284.427944  39.800736  39.610963  32.293929 -6.286475   \n",
       "2020-01-28   5502200  284.638578  39.775639  39.323804  37.478964 -6.322034   \n",
       "2020-01-29  12454700  284.852078  44.883662  39.474169  39.469645 -5.842293   \n",
       "2020-01-30   6022000  285.067200  46.039141  47.928693  42.242222 -5.297740   \n",
       "2020-01-31   4996800  285.279755  42.287379  51.987834  46.463565 -5.211977   \n",
       "\n",
       "            MACDSignal  MACDHist      WILLR  \n",
       "Date                                         \n",
       "2020-01-27   -5.699115 -0.587360 -66.530010  \n",
       "2020-01-28   -5.823699 -0.498335 -64.521934  \n",
       "2020-01-29   -5.827418 -0.014875 -50.525550  \n",
       "2020-01-30   -5.721482  0.423742 -41.166436  \n",
       "2020-01-31   -5.619581  0.407604 -52.344512  "
      ]
     },
     "execution_count": 4,
     "metadata": {},
     "output_type": "execute_result"
    }
   ],
   "source": [
    "#5.1. Step 1: extract technical indicators\n",
    "\n",
    "#Define Technical Indicators\n",
    "#_______________________________________________________________________\n",
    "\n",
    "#Simple Moving Average  \n",
    "sma = ta.SMA(df.Close,900)\n",
    "df['MA25'] = sma\n",
    "df = df.fillna(0)\n",
    "\n",
    "# RSI\n",
    "df[\"RSI\"] = ta.RSI(df.Close,14)\n",
    "\n",
    "# Stochastic K\n",
    "df[\"Stoch_K\"], df[\"Stoch_D\"] = ta.STOCH(df[\"High\"], df[\"Low\"], df[\"Close\"], fastk_period=14, slowk_period=3, slowk_matype=0, \n",
    "                                       slowd_period=3, slowd_matype=0)\n",
    "\n",
    "# MACD\n",
    "df['MACD'], df['MACDSignal'], df['MACDHist'] = ta.MACD(df.Close, fastperiod= 12, slowperiod= 26, signalperiod= 9)\n",
    "\n",
    "# Williams R%\n",
    "df[\"WILLR\"] = ta.WILLR(df['High'], df['Low'], df['Close'], timeperiod=14) \n",
    "\n",
    "df.tail()"
   ]
  },
  {
   "cell_type": "code",
   "execution_count": 5,
   "metadata": {},
   "outputs": [
    {
     "name": "stderr",
     "output_type": "stream",
     "text": [
      "C:\\Users\\JMadd\\Anaconda3\\lib\\site-packages\\ipykernel_launcher.py:7: FutureWarning: Currently, 'apply' passes the values as ndarrays to the applied function. In the future, this will change to passing it as Series objects. You need to specify 'raw=True' to keep the current behaviour, and you can pass 'raw=False' to silence this warning\n",
      "  import sys\n"
     ]
    }
   ],
   "source": [
    "# 5.2. Step 2: trend analysis using technical indicators\n",
    "\n",
    "#make MA25 into a series\n",
    "MA25 = df.iloc[:,6]\n",
    "\n",
    "# Up trend is 1, No trend is 0, and Down trend is -1\n",
    "df['Trend'] = MA25.rolling('5d').apply(lambda x: np.sign(x[-1] - x[0]))\n",
    "\n",
    "df.tail()\n",
    "#If close > MA25 and MA25 is rising for last 5 days then 1 (Uptrend)\n",
    "#If close < MA25 and MA25 is declining for last 5 days then -1 (Downtrend)\n",
    "#If neither are true then 0 (Notrend)\n",
    "def f(row):\n",
    "    if row['Close'] > row['MA25'] and row['Trend'] == 1:\n",
    "        val = 1\n",
    "    elif row['Close'] < row['MA25'] and row['Trend'] == -1:\n",
    "        val = -1\n",
    "    else:\n",
    "        val = 0\n",
    "    return val\n",
    "df['Trend'] = df.apply(f, axis=1)\n",
    "# df.tail(n=1)"
   ]
  },
  {
   "cell_type": "code",
   "execution_count": 6,
   "metadata": {},
   "outputs": [
    {
     "data": {
      "text/html": [
       "<div>\n",
       "<style scoped>\n",
       "    .dataframe tbody tr th:only-of-type {\n",
       "        vertical-align: middle;\n",
       "    }\n",
       "\n",
       "    .dataframe tbody tr th {\n",
       "        vertical-align: top;\n",
       "    }\n",
       "\n",
       "    .dataframe thead th {\n",
       "        text-align: right;\n",
       "    }\n",
       "</style>\n",
       "<table border=\"1\" class=\"dataframe\">\n",
       "  <thead>\n",
       "    <tr style=\"text-align: right;\">\n",
       "      <th></th>\n",
       "      <th>Open</th>\n",
       "      <th>High</th>\n",
       "      <th>Low</th>\n",
       "      <th>Close</th>\n",
       "      <th>Adj Close</th>\n",
       "      <th>Volume</th>\n",
       "      <th>MA25</th>\n",
       "      <th>RSI</th>\n",
       "      <th>Stoch_K</th>\n",
       "      <th>Stoch_D</th>\n",
       "      <th>MACD</th>\n",
       "      <th>MACDSignal</th>\n",
       "      <th>MACDHist</th>\n",
       "      <th>WILLR</th>\n",
       "      <th>Trend</th>\n",
       "      <th>UpTrend</th>\n",
       "      <th>DownTrend</th>\n",
       "      <th>Trade_Signal</th>\n",
       "    </tr>\n",
       "    <tr>\n",
       "      <th>Date</th>\n",
       "      <th></th>\n",
       "      <th></th>\n",
       "      <th></th>\n",
       "      <th></th>\n",
       "      <th></th>\n",
       "      <th></th>\n",
       "      <th></th>\n",
       "      <th></th>\n",
       "      <th></th>\n",
       "      <th></th>\n",
       "      <th></th>\n",
       "      <th></th>\n",
       "      <th></th>\n",
       "      <th></th>\n",
       "      <th></th>\n",
       "      <th></th>\n",
       "      <th></th>\n",
       "      <th></th>\n",
       "    </tr>\n",
       "  </thead>\n",
       "  <tbody>\n",
       "    <tr>\n",
       "      <td>2020-01-27</td>\n",
       "      <td>316.209991</td>\n",
       "      <td>321.260010</td>\n",
       "      <td>314.579987</td>\n",
       "      <td>316.600006</td>\n",
       "      <td>316.600006</td>\n",
       "      <td>7468100</td>\n",
       "      <td>284.427944</td>\n",
       "      <td>39.800736</td>\n",
       "      <td>39.610963</td>\n",
       "      <td>32.293929</td>\n",
       "      <td>-6.286475</td>\n",
       "      <td>-5.699115</td>\n",
       "      <td>-0.587360</td>\n",
       "      <td>-66.530010</td>\n",
       "      <td>1</td>\n",
       "      <td>NaN</td>\n",
       "      <td>NaN</td>\n",
       "      <td>NaN</td>\n",
       "    </tr>\n",
       "    <tr>\n",
       "      <td>2020-01-28</td>\n",
       "      <td>318.049988</td>\n",
       "      <td>319.359985</td>\n",
       "      <td>314.000000</td>\n",
       "      <td>316.559998</td>\n",
       "      <td>316.559998</td>\n",
       "      <td>5502200</td>\n",
       "      <td>284.638578</td>\n",
       "      <td>39.775639</td>\n",
       "      <td>39.323804</td>\n",
       "      <td>37.478964</td>\n",
       "      <td>-6.322034</td>\n",
       "      <td>-5.823699</td>\n",
       "      <td>-0.498335</td>\n",
       "      <td>-64.521934</td>\n",
       "      <td>1</td>\n",
       "      <td>0.0</td>\n",
       "      <td>0.0</td>\n",
       "      <td>0.0</td>\n",
       "    </tr>\n",
       "    <tr>\n",
       "      <td>2020-01-29</td>\n",
       "      <td>324.350006</td>\n",
       "      <td>327.179993</td>\n",
       "      <td>319.140015</td>\n",
       "      <td>322.019989</td>\n",
       "      <td>322.019989</td>\n",
       "      <td>12454700</td>\n",
       "      <td>284.852078</td>\n",
       "      <td>44.883662</td>\n",
       "      <td>39.474169</td>\n",
       "      <td>39.469645</td>\n",
       "      <td>-5.842293</td>\n",
       "      <td>-5.827418</td>\n",
       "      <td>-0.014875</td>\n",
       "      <td>-50.525550</td>\n",
       "      <td>1</td>\n",
       "      <td>1.0</td>\n",
       "      <td>1.0</td>\n",
       "      <td>1.0</td>\n",
       "    </tr>\n",
       "    <tr>\n",
       "      <td>2020-01-30</td>\n",
       "      <td>320.500000</td>\n",
       "      <td>325.350006</td>\n",
       "      <td>317.640015</td>\n",
       "      <td>323.299988</td>\n",
       "      <td>323.299988</td>\n",
       "      <td>6022000</td>\n",
       "      <td>285.067200</td>\n",
       "      <td>46.039141</td>\n",
       "      <td>47.928693</td>\n",
       "      <td>42.242222</td>\n",
       "      <td>-5.297740</td>\n",
       "      <td>-5.721482</td>\n",
       "      <td>0.423742</td>\n",
       "      <td>-41.166436</td>\n",
       "      <td>1</td>\n",
       "      <td>1.0</td>\n",
       "      <td>1.0</td>\n",
       "      <td>1.0</td>\n",
       "    </tr>\n",
       "    <tr>\n",
       "      <td>2020-01-31</td>\n",
       "      <td>321.750000</td>\n",
       "      <td>321.929993</td>\n",
       "      <td>316.989990</td>\n",
       "      <td>318.269989</td>\n",
       "      <td>318.269989</td>\n",
       "      <td>4996800</td>\n",
       "      <td>285.279755</td>\n",
       "      <td>42.287379</td>\n",
       "      <td>51.987834</td>\n",
       "      <td>46.463565</td>\n",
       "      <td>-5.211977</td>\n",
       "      <td>-5.619581</td>\n",
       "      <td>0.407604</td>\n",
       "      <td>-52.344512</td>\n",
       "      <td>1</td>\n",
       "      <td>0.0</td>\n",
       "      <td>0.0</td>\n",
       "      <td>0.0</td>\n",
       "    </tr>\n",
       "  </tbody>\n",
       "</table>\n",
       "</div>"
      ],
      "text/plain": [
       "                  Open        High         Low       Close   Adj Close  \\\n",
       "Date                                                                     \n",
       "2020-01-27  316.209991  321.260010  314.579987  316.600006  316.600006   \n",
       "2020-01-28  318.049988  319.359985  314.000000  316.559998  316.559998   \n",
       "2020-01-29  324.350006  327.179993  319.140015  322.019989  322.019989   \n",
       "2020-01-30  320.500000  325.350006  317.640015  323.299988  323.299988   \n",
       "2020-01-31  321.750000  321.929993  316.989990  318.269989  318.269989   \n",
       "\n",
       "              Volume        MA25        RSI    Stoch_K    Stoch_D      MACD  \\\n",
       "Date                                                                          \n",
       "2020-01-27   7468100  284.427944  39.800736  39.610963  32.293929 -6.286475   \n",
       "2020-01-28   5502200  284.638578  39.775639  39.323804  37.478964 -6.322034   \n",
       "2020-01-29  12454700  284.852078  44.883662  39.474169  39.469645 -5.842293   \n",
       "2020-01-30   6022000  285.067200  46.039141  47.928693  42.242222 -5.297740   \n",
       "2020-01-31   4996800  285.279755  42.287379  51.987834  46.463565 -5.211977   \n",
       "\n",
       "            MACDSignal  MACDHist      WILLR  Trend  UpTrend  DownTrend  \\\n",
       "Date                                                                     \n",
       "2020-01-27   -5.699115 -0.587360 -66.530010      1      NaN        NaN   \n",
       "2020-01-28   -5.823699 -0.498335 -64.521934      1      0.0        0.0   \n",
       "2020-01-29   -5.827418 -0.014875 -50.525550      1      1.0        1.0   \n",
       "2020-01-30   -5.721482  0.423742 -41.166436      1      1.0        1.0   \n",
       "2020-01-31   -5.619581  0.407604 -52.344512      1      0.0        0.0   \n",
       "\n",
       "            Trade_Signal  \n",
       "Date                      \n",
       "2020-01-27           NaN  \n",
       "2020-01-28           0.0  \n",
       "2020-01-29           1.0  \n",
       "2020-01-30           1.0  \n",
       "2020-01-31           0.0  "
      ]
     },
     "execution_count": 6,
     "metadata": {},
     "output_type": "execute_result"
    }
   ],
   "source": [
    "#5.3. Step 3: trading signal generation from trend analysis\n",
    "\n",
    "Close = df.iloc[:,3]\n",
    "df[\"UpTrend\"] = (Close - Close.rolling('3 D').min())/(Close.rolling('3 D').max() - Close.rolling('3 D').min())\n",
    "# * .5 + .5\n",
    "df[\"DownTrend\"] = (Close - Close.rolling('3 D').min())/(Close.rolling('3 D').max() - Close.rolling('3 D').min())\n",
    "# * .5\n",
    "\n",
    "def g(row):\n",
    "    if row['Trend'] == 1:\n",
    "        val = row['UpTrend']\n",
    "    elif row['Trend'] == -1:\n",
    "        val = row['DownTrend']\n",
    "    else:\n",
    "        val = 0\n",
    "    return val\n",
    "df['Trade_Signal'] = df.apply(g, axis=1)\n",
    "df.tail()"
   ]
  },
  {
   "cell_type": "code",
   "execution_count": 7,
   "metadata": {},
   "outputs": [
    {
     "name": "stdout",
     "output_type": "stream",
     "text": [
      "758\n"
     ]
    }
   ],
   "source": [
    "#I added .tail(n=Length - 32) to omit values where the indicators = 0 since the machine learning agorithm trains on the values \n",
    "#of the indicators and the MACD doesn't generate values until 33 periods have passed.\n",
    "Length = ((df.shape[0])- 500)\n",
    "\n",
    "\n",
    "df2 = (df[['MA25', 'RSI', 'Stoch_K', 'Stoch_D', 'MACD', 'WILLR', 'Trade_Signal']].copy().tail(n=Length).copy())\n",
    "\n",
    "\n",
    "#I get some na values without this and I'm worried that using this and\n",
    "# having those values as zero will mess with the algorithms interpretation of the data\n",
    "df2 = df2.fillna(0)\n",
    "\n",
    "# df2.describe()\n",
    "df2.head()\n",
    "print(Length)"
   ]
  },
  {
   "cell_type": "code",
   "execution_count": 8,
   "metadata": {},
   "outputs": [
    {
     "data": {
      "text/html": [
       "<div>\n",
       "<style scoped>\n",
       "    .dataframe tbody tr th:only-of-type {\n",
       "        vertical-align: middle;\n",
       "    }\n",
       "\n",
       "    .dataframe tbody tr th {\n",
       "        vertical-align: top;\n",
       "    }\n",
       "\n",
       "    .dataframe thead th {\n",
       "        text-align: right;\n",
       "    }\n",
       "</style>\n",
       "<table border=\"1\" class=\"dataframe\">\n",
       "  <thead>\n",
       "    <tr style=\"text-align: right;\">\n",
       "      <th></th>\n",
       "      <th>MA25</th>\n",
       "      <th>RSI</th>\n",
       "      <th>Stoch_K</th>\n",
       "      <th>Stoch_D</th>\n",
       "      <th>MACD</th>\n",
       "      <th>WILLR</th>\n",
       "      <th>Trade_Signal</th>\n",
       "    </tr>\n",
       "    <tr>\n",
       "      <th>Date</th>\n",
       "      <th></th>\n",
       "      <th></th>\n",
       "      <th></th>\n",
       "      <th></th>\n",
       "      <th></th>\n",
       "      <th></th>\n",
       "      <th></th>\n",
       "    </tr>\n",
       "  </thead>\n",
       "  <tbody>\n",
       "    <tr>\n",
       "      <td>2020-01-27</td>\n",
       "      <td>0.997014</td>\n",
       "      <td>0.219255</td>\n",
       "      <td>0.384290</td>\n",
       "      <td>0.283008</td>\n",
       "      <td>0.196046</td>\n",
       "      <td>0.334700</td>\n",
       "      <td>0.0</td>\n",
       "    </tr>\n",
       "    <tr>\n",
       "      <td>2020-01-28</td>\n",
       "      <td>0.997752</td>\n",
       "      <td>0.218887</td>\n",
       "      <td>0.381273</td>\n",
       "      <td>0.340680</td>\n",
       "      <td>0.194881</td>\n",
       "      <td>0.354781</td>\n",
       "      <td>0.0</td>\n",
       "    </tr>\n",
       "    <tr>\n",
       "      <td>2020-01-29</td>\n",
       "      <td>0.998501</td>\n",
       "      <td>0.293903</td>\n",
       "      <td>0.382853</td>\n",
       "      <td>0.362822</td>\n",
       "      <td>0.210588</td>\n",
       "      <td>0.494745</td>\n",
       "      <td>1.0</td>\n",
       "    </tr>\n",
       "    <tr>\n",
       "      <td>2020-01-30</td>\n",
       "      <td>0.999255</td>\n",
       "      <td>0.310873</td>\n",
       "      <td>0.471685</td>\n",
       "      <td>0.393661</td>\n",
       "      <td>0.228417</td>\n",
       "      <td>0.588336</td>\n",
       "      <td>1.0</td>\n",
       "    </tr>\n",
       "    <tr>\n",
       "      <td>2020-01-31</td>\n",
       "      <td>1.000000</td>\n",
       "      <td>0.255774</td>\n",
       "      <td>0.514335</td>\n",
       "      <td>0.440614</td>\n",
       "      <td>0.231224</td>\n",
       "      <td>0.476555</td>\n",
       "      <td>0.0</td>\n",
       "    </tr>\n",
       "  </tbody>\n",
       "</table>\n",
       "</div>"
      ],
      "text/plain": [
       "                MA25       RSI   Stoch_K   Stoch_D      MACD     WILLR  \\\n",
       "Date                                                                     \n",
       "2020-01-27  0.997014  0.219255  0.384290  0.283008  0.196046  0.334700   \n",
       "2020-01-28  0.997752  0.218887  0.381273  0.340680  0.194881  0.354781   \n",
       "2020-01-29  0.998501  0.293903  0.382853  0.362822  0.210588  0.494745   \n",
       "2020-01-30  0.999255  0.310873  0.471685  0.393661  0.228417  0.588336   \n",
       "2020-01-31  1.000000  0.255774  0.514335  0.440614  0.231224  0.476555   \n",
       "\n",
       "            Trade_Signal  \n",
       "Date                      \n",
       "2020-01-27           0.0  \n",
       "2020-01-28           0.0  \n",
       "2020-01-29           1.0  \n",
       "2020-01-30           1.0  \n",
       "2020-01-31           0.0  "
      ]
     },
     "execution_count": 8,
     "metadata": {},
     "output_type": "execute_result"
    }
   ],
   "source": [
    "#5.5. Step 5: network structure creation and training using ELM\n",
    "\n",
    "target_column = ['Trade_Signal'] \n",
    "predictors = list(set(list(df2.columns))-set(target_column))\n",
    "#line 3 here fufills the data normalization of Step 5.4\n",
    "df2[predictors] = (df2[predictors] - df2[predictors].min())/(df2[predictors].max() - df2[predictors].min())\n",
    "\n",
    "#df2.describe()\n",
    "#df2.info()\n",
    "df2.tail()\n",
    "# df2.head()"
   ]
  },
  {
   "cell_type": "code",
   "execution_count": 9,
   "metadata": {
    "scrolled": true
   },
   "outputs": [
    {
     "name": "stdout",
     "output_type": "stream",
     "text": [
      "(758, 6)\n",
      "2\n",
      "(758, 1)\n",
      "2\n",
      "               WILLR      MA25       RSI      MACD   Stoch_D   Stoch_K\n",
      "Date                                                                  \n",
      "2017-01-27  0.827457  0.000000  0.705210  0.497646  0.876747  0.897536\n",
      "2017-01-30  0.667667  0.000000  0.594207  0.498893  0.890254  0.818854\n",
      "2017-01-31  0.506377  0.000000  0.497010  0.493148  0.799343  0.669092\n",
      "2017-02-01  0.547637  0.000000  0.513472  0.489044  0.684150  0.571089\n",
      "2017-02-02  0.415849  0.000000  0.440246  0.480369  0.565600  0.482893\n",
      "...              ...       ...       ...       ...       ...       ...\n",
      "2020-01-27  0.334700  0.997014  0.219255  0.196046  0.283008  0.384290\n",
      "2020-01-28  0.354781  0.997752  0.218887  0.194881  0.340680  0.381273\n",
      "2020-01-29  0.494745  0.998501  0.293903  0.210588  0.362822  0.382853\n",
      "2020-01-30  0.588336  0.999255  0.310873  0.228417  0.393661  0.471685\n",
      "2020-01-31  0.476555  1.000000  0.255774  0.231224  0.440614  0.514335\n",
      "\n",
      "[758 rows x 6 columns]\n"
     ]
    }
   ],
   "source": [
    "X = df2[predictors]\n",
    "\n",
    "y = df2[target_column]\n",
    "\n",
    "# y = y.T\n",
    "\n",
    "print(X.shape); print(X.ndim); print(y.shape); print(y.ndim)\n",
    "print(X)"
   ]
  },
  {
   "cell_type": "code",
   "execution_count": 10,
   "metadata": {},
   "outputs": [
    {
     "name": "stdout",
     "output_type": "stream",
     "text": [
      "(1, 6)\n",
      "[[1 2 3 4 5 6]]\n"
     ]
    }
   ],
   "source": [
    "Xindex = np.array([[1], [2], [3], [4], [5], [6]])\n",
    "\n",
    "Xindex = Xindex.T\n",
    "\n",
    "print(Xindex.shape); print(Xindex)"
   ]
  },
  {
   "cell_type": "code",
   "execution_count": 11,
   "metadata": {},
   "outputs": [
    {
     "name": "stdout",
     "output_type": "stream",
     "text": [
      "(4548, 6)\n",
      "[[0.82745667 0.         0.70521007 0.49764617 0.87674727 0.89753609]\n",
      " [0.66766749 0.         0.59420652 0.49889269 0.89025383 0.81885446]\n",
      " [0.50637652 0.         0.49700951 0.49314834 0.79934295 0.6690915 ]\n",
      " ...\n",
      " [2.96846702 5.99100509 1.76341998 1.26352826 2.17693304 2.2971161 ]\n",
      " [3.53001381 5.99552953 1.86523657 1.37049918 2.36196604 2.83010932]\n",
      " [2.85932926 6.         1.53464491 1.38734638 2.64368511 3.08600715]]\n"
     ]
    }
   ],
   "source": [
    "feb = np.outer(X, Xindex).flatten(order='F').reshape(-1, 6)\n",
    "\n",
    "print(feb.shape); print(feb)"
   ]
  },
  {
   "cell_type": "code",
   "execution_count": 14,
   "metadata": {},
   "outputs": [],
   "source": [
    "# feb = np.sum(\n",
    "# feb=cx.reshape(-1, 6)\n",
    "# print(feb.shape); print(feb)"
   ]
  },
  {
   "cell_type": "code",
   "execution_count": 15,
   "metadata": {},
   "outputs": [
    {
     "name": "stdout",
     "output_type": "stream",
     "text": [
      "(4548,)\n",
      "1\n",
      "[0.99900875 0.99806485 0.9946968  ... 1.         1.         1.        ]\n"
     ]
    }
   ],
   "source": [
    "#  Functional Expansion Block\n",
    "\n",
    "# feb = np.outer(X, Xindex).flatten(order='F')\n",
    "# feb = np.sum(cx.reshape(-1, 6), axis=1)\n",
    "# feb = np.tanh(feb)\n",
    "\n",
    "#all on one line\n",
    "feb = np.tanh(np.sum(np.outer(X, Xindex).flatten(order='F').reshape(-1, 6), axis=1))\n",
    "\n",
    "print(feb.shape); print(feb.ndim);\n",
    "print(feb)"
   ]
  },
  {
   "cell_type": "code",
   "execution_count": 16,
   "metadata": {},
   "outputs": [],
   "source": [
    "expanded_inputs = feb.reshape(Length, -1)\n",
    "\n",
    "# feb = feb.reshape(6, -1)\n",
    "# print(feb)"
   ]
  },
  {
   "cell_type": "code",
   "execution_count": 17,
   "metadata": {},
   "outputs": [
    {
     "name": "stdout",
     "output_type": "stream",
     "text": [
      "(1, 4548)\n",
      "2\n",
      "[[0.99900875 0.99806485 0.9946968  ... 1.         1.         1.        ]]\n"
     ]
    }
   ],
   "source": [
    "cx = feb.reshape(1, len(feb) )\n",
    "\n",
    "# cx= feb\n",
    "\n",
    "print(cx.shape); print(cx.ndim); print(cx)"
   ]
  },
  {
   "cell_type": "code",
   "execution_count": 18,
   "metadata": {},
   "outputs": [
    {
     "name": "stdout",
     "output_type": "stream",
     "text": [
      "(1, 4548)\n",
      "2\n",
      "[[0.92671469 0.37044332 0.85644721 ... 0.91616984 0.38687902 0.8308024 ]]\n"
     ]
    }
   ],
   "source": [
    "# initialize random weights\n",
    "synaptic_weights = np.random.random((1, (Length * 6)))\n",
    "\n",
    "print(synaptic_weights.shape); print(synaptic_weights.ndim);print(synaptic_weights)"
   ]
  },
  {
   "cell_type": "code",
   "execution_count": 19,
   "metadata": {},
   "outputs": [
    {
     "name": "stdout",
     "output_type": "stream",
     "text": [
      "(4548, 4548)\n",
      "2\n",
      "[[1. 0. 0. ... 0. 0. 0.]\n",
      " [0. 1. 0. ... 0. 0. 0.]\n",
      " [0. 0. 1. ... 0. 0. 0.]\n",
      " ...\n",
      " [0. 0. 0. ... 1. 0. 0.]\n",
      " [0. 0. 0. ... 0. 1. 0.]\n",
      " [0. 0. 0. ... 0. 0. 1.]]\n"
     ]
    }
   ],
   "source": [
    "I = np.identity(len(feb))\n",
    "\n",
    "print(I.shape); print(I.ndim); print(I)"
   ]
  },
  {
   "cell_type": "code",
   "execution_count": 20,
   "metadata": {},
   "outputs": [
    {
     "name": "stdout",
     "output_type": "stream",
     "text": [
      "(4548, 4548)\n",
      "2\n",
      "[[0.46335712 0.37116157 0.86101333 ... 0.91616984 0.38687902 0.8308024 ]\n",
      " [0.92763421 0.18522131 0.86101333 ... 0.91616984 0.38687902 0.8308024 ]\n",
      " [0.92763421 0.37116157 0.42821755 ... 0.91616984 0.38687902 0.8308024 ]\n",
      " ...\n",
      " [0.92763421 0.37116157 0.86101333 ... 0.45808492 0.38687902 0.8308024 ]\n",
      " [0.92763421 0.37116157 0.86101333 ... 0.91616984 0.19343951 0.8308024 ]\n",
      " [0.92763421 0.37116157 0.86101333 ... 0.91616984 0.38687902 0.4154012 ]]\n"
     ]
    }
   ],
   "source": [
    "lamb = 1 \n",
    "\n",
    "W = ((cx.T.dot(cx) + lamb * I)**-1) * (cx.T.dot(synaptic_weights))\n",
    "\n",
    "# W = np.linalg.lstsq(cx.T.dot(cx) + lamb * I, cx.T.dot(Y))[0]\n",
    "\n",
    "print(W.shape);  print(W.ndim); print(W); "
   ]
  },
  {
   "cell_type": "code",
   "execution_count": 21,
   "metadata": {},
   "outputs": [],
   "source": [
    "# y = np.outer(cx, W)\n",
    "# a = cx.T.dot(synaptic_weights)\n",
    "# a = np.sum(cx.dot(W).flatten(order='C').reshape(6, -1), axis=0)\n",
    "# print(a.shape); print(a.max()); print(a.min()); print(a);"
   ]
  },
  {
   "cell_type": "code",
   "execution_count": 22,
   "metadata": {
    "scrolled": true
   },
   "outputs": [
    {
     "name": "stdout",
     "output_type": "stream",
     "text": [
      "(1, 4548)\n"
     ]
    }
   ],
   "source": [
    "print(cx.shape);  \n",
    "# print(cx.ndim); print(cx)"
   ]
  },
  {
   "cell_type": "code",
   "execution_count": null,
   "metadata": {},
   "outputs": [],
   "source": []
  },
  {
   "cell_type": "code",
   "execution_count": 4,
   "metadata": {
    "scrolled": true
   },
   "outputs": [],
   "source": [
    "#import CEFLANN\n",
    "import Technical\n",
    "import SAM\n",
    "\n",
    "# nn =CEFLANN.NeuralNetwork(expanded_inputs,y)\n",
    "# nn =SAM.NeuralNetwork(expanded_inputs,y)\n",
    "\n",
    "# print(nn)\n",
    "\n",
    "# square = nn.feedforward()\n",
    "# square.pop(0)\n",
    "\n",
    "# print(square)\n",
    "%run SAM.py"
   ]
  },
  {
   "cell_type": "code",
   "execution_count": 5,
   "metadata": {},
   "outputs": [
    {
     "name": "stdout",
     "output_type": "stream",
     "text": [
      "[[0.0850374 ]\n",
      " [0.08672281]\n",
      " [0.0861263 ]\n",
      " [0.08718215]\n",
      " [0.09432303]\n",
      " [0.08871255]]\n"
     ]
    }
   ],
   "source": [
    "print(weights)"
   ]
  },
  {
   "cell_type": "code",
   "execution_count": null,
   "metadata": {},
   "outputs": [],
   "source": []
  },
  {
   "cell_type": "code",
   "execution_count": 24,
   "metadata": {},
   "outputs": [
    {
     "data": {
      "text/plain": [
       "0.0009537773277571242"
      ]
     },
     "execution_count": 24,
     "metadata": {},
     "output_type": "execute_result"
    }
   ],
   "source": [
    "# square.pop(0)"
   ]
  },
  {
   "cell_type": "code",
   "execution_count": 26,
   "metadata": {},
   "outputs": [
    {
     "data": {
      "image/png": "[encoded data removed]",
      "text/plain": [
       "<Figure size 432x288 with 1 Axes>"
      ]
     },
     "metadata": {
      "needs_background": "light"
     },
     "output_type": "display_data"
    }
   ],
   "source": [
    "import matplotlib.pyplot as plt\n",
    "plt.scatter(range(len(square)), square)\n",
    "plt.axis(option='auto')\n",
    "\n",
    "plt.show()"
   ]
  },
  {
   "cell_type": "code",
   "execution_count": null,
   "metadata": {},
   "outputs": [],
   "source": []
  },
  {
   "cell_type": "code",
   "execution_count": null,
   "metadata": {
    "scrolled": true
   },
   "outputs": [],
   "source": [
    "from sklearn import preprocessing\n"
   ]
  },
  {
   "cell_type": "code",
   "execution_count": null,
   "metadata": {},
   "outputs": [],
   "source": [
    "a_scaled = preprocessing.scale(a)\n",
    "a_scaled = a_scaled.reshape(len(a_scaled), 1 )\n",
    "print(a_scaled.shape); print(a_scaled);"
   ]
  },
  {
   "cell_type": "code",
   "execution_count": null,
   "metadata": {},
   "outputs": [],
   "source": [
    "range(.1, 1, .1)"
   ]
  },
  {
   "cell_type": "code",
   "execution_count": null,
   "metadata": {},
   "outputs": [],
   "source": []
  }
 ],
 "metadata": {
  "kernelspec": {
   "display_name": "Python 3",
   "language": "python",
   "name": "python3"
  },
  "language_info": {
   "codemirror_mode": {
    "name": "ipython",
    "version": 3
   },
   "file_extension": ".py",
   "mimetype": "text/x-python",
   "name": "python",
   "nbconvert_exporter": "python",
   "pygments_lexer": "ipython3",
   "version": "3.7.3"
  }
 },
 "nbformat": 4,
 "nbformat_minor": 2
}
